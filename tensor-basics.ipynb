{
  "cells": [
    {
      "cell_type": "code",
      "execution_count": 26,
      "metadata": {
        "id": "W_MgjzDfEwI0"
      },
      "outputs": [],
      "source": [
        "import torch\n",
        "import numpy as np"
      ]
    },
    {
      "cell_type": "code",
      "execution_count": 4,
      "metadata": {
        "colab": {
          "base_uri": "https://localhost:8080/"
        },
        "id": "V2Bx9C9kEwI5",
        "outputId": "e5d00305-6bd1-46c1-8504-6d6bf991642e"
      },
      "outputs": [
        {
          "data": {
            "text/plain": [
              "tensor([[0.9846, 0.5537, 0.0062],\n",
              "        [0.4387, 0.6287, 0.5943]])"
            ]
          },
          "execution_count": 4,
          "metadata": {},
          "output_type": "execute_result"
        }
      ],
      "source": [
        "# empty tensor with on value\n",
        "x = torch.rand(2, 3)\n",
        "x"
      ]
    },
    {
      "cell_type": "code",
      "execution_count": 6,
      "metadata": {
        "colab": {
          "base_uri": "https://localhost:8080/"
        },
        "id": "6YVk-Rx_FCyT",
        "outputId": "673665a3-abde-4b11-e648-cb5c6780d4f3"
      },
      "outputs": [
        {
          "data": {
            "text/plain": [
              "tensor([[0., 0.],\n",
              "        [0., 0.]])"
            ]
          },
          "execution_count": 6,
          "metadata": {},
          "output_type": "execute_result"
        }
      ],
      "source": [
        "x = torch.zeros(2,2)\n",
        "x"
      ]
    },
    {
      "cell_type": "code",
      "execution_count": 9,
      "metadata": {
        "colab": {
          "base_uri": "https://localhost:8080/"
        },
        "id": "ypnvCs75FHvh",
        "outputId": "1e2ae2f0-b315-4fad-c25a-11cc25deb1cd"
      },
      "outputs": [
        {
          "name": "stdout",
          "output_type": "stream",
          "text": [
            "torch.Size([2, 3])\n"
          ]
        }
      ],
      "source": [
        "x = torch.empty(2, 3, dtype=torch.double)\n",
        "print(x.size())"
      ]
    },
    {
      "cell_type": "code",
      "execution_count": 10,
      "metadata": {
        "colab": {
          "base_uri": "https://localhost:8080/"
        },
        "id": "l9xWBjzGFSF-",
        "outputId": "6adcf94a-5b55-4fed-ca36-97876a6bce30"
      },
      "outputs": [
        {
          "data": {
            "text/plain": [
              "tensor([2.5000, 0.1000])"
            ]
          },
          "execution_count": 10,
          "metadata": {},
          "output_type": "execute_result"
        }
      ],
      "source": [
        "x = torch.tensor([2.5, 0.1])\n",
        "x"
      ]
    },
    {
      "cell_type": "code",
      "execution_count": 11,
      "metadata": {
        "colab": {
          "base_uri": "https://localhost:8080/"
        },
        "id": "LzvWoN6MFeU-",
        "outputId": "82c15ad7-f35a-4536-b0b9-6d761497bca5"
      },
      "outputs": [
        {
          "data": {
            "text/plain": [
              "(tensor([[0.6605, 0.9254],\n",
              "         [0.9974, 0.5127]]), tensor([[0.9757, 0.7276],\n",
              "         [0.3335, 0.4007]]))"
            ]
          },
          "execution_count": 11,
          "metadata": {},
          "output_type": "execute_result"
        }
      ],
      "source": [
        "x = torch.rand(2, 2)\n",
        "y = torch.rand(2, 2)\n",
        "x, y"
      ]
    },
    {
      "cell_type": "code",
      "execution_count": 13,
      "metadata": {
        "colab": {
          "base_uri": "https://localhost:8080/"
        },
        "id": "N6FOjlvbFksA",
        "outputId": "e24a0373-da83-46eb-fbc4-0c929c80aa0b"
      },
      "outputs": [
        {
          "data": {
            "text/plain": [
              "tensor([[1.6362, 1.6530],\n",
              "        [1.3309, 0.9134]])"
            ]
          },
          "execution_count": 13,
          "metadata": {},
          "output_type": "execute_result"
        }
      ],
      "source": [
        "z = x + y\n",
        "z"
      ]
    },
    {
      "cell_type": "code",
      "execution_count": 15,
      "metadata": {
        "colab": {
          "base_uri": "https://localhost:8080/"
        },
        "id": "I_4dCm6GFniB",
        "outputId": "4b5343b0-deec-46b9-d7d3-5387e723d862"
      },
      "outputs": [
        {
          "data": {
            "text/plain": [
              "tensor([[1.6362, 1.6530],\n",
              "        [1.3309, 0.9134]])"
            ]
          },
          "execution_count": 15,
          "metadata": {},
          "output_type": "execute_result"
        }
      ],
      "source": [
        "z = torch.add(x,y)\n",
        "z"
      ]
    },
    {
      "cell_type": "code",
      "execution_count": 16,
      "metadata": {
        "colab": {
          "base_uri": "https://localhost:8080/"
        },
        "id": "joEa7YtBFt-e",
        "outputId": "9cf060c7-c881-400f-e339-6f09519e4a47"
      },
      "outputs": [
        {
          "data": {
            "text/plain": [
              "tensor([[1.6362, 1.6530],\n",
              "        [1.3309, 0.9134]])"
            ]
          },
          "execution_count": 16,
          "metadata": {},
          "output_type": "execute_result"
        }
      ],
      "source": [
        "y.add_(x)\n",
        "y"
      ]
    },
    {
      "cell_type": "code",
      "execution_count": 18,
      "metadata": {
        "colab": {
          "base_uri": "https://localhost:8080/"
        },
        "id": "8xzJtE83Fygm",
        "outputId": "f6df7c17-46ac-4e61-d8ec-44c678fc3933"
      },
      "outputs": [
        {
          "data": {
            "text/plain": [
              "tensor([[1.0807, 1.5296],\n",
              "        [1.3274, 0.4683]])"
            ]
          },
          "execution_count": 18,
          "metadata": {},
          "output_type": "execute_result"
        }
      ],
      "source": [
        "k = z*x\n",
        "k"
      ]
    },
    {
      "cell_type": "code",
      "execution_count": 24,
      "metadata": {
        "colab": {
          "base_uri": "https://localhost:8080/"
        },
        "id": "8lP3xC-TGO1O",
        "outputId": "59bd9ace-4b78-45b0-acc4-330dc62de4f9"
      },
      "outputs": [
        {
          "name": "stdout",
          "output_type": "stream",
          "text": [
            "tensor([[0.3778, 0.6771, 0.9516],\n",
            "        [0.5563, 0.6309, 0.5901],\n",
            "        [0.5779, 0.8609, 0.8236],\n",
            "        [0.7043, 0.6525, 0.7016],\n",
            "        [0.8215, 0.2754, 0.8783]])\n",
            "tensor([0.3778, 0.5563, 0.5779, 0.7043, 0.8215])\n",
            "tensor([0.5563, 0.6309, 0.5901])\n",
            "0.8235822916030884\n"
          ]
        }
      ],
      "source": [
        "x = torch.rand(5,3)\n",
        "print(x)\n",
        "print(x[:, 0])\n",
        "print(x[1, :])\n",
        "print(x[2, 2].item())"
      ]
    },
    {
      "cell_type": "code",
      "execution_count": 25,
      "metadata": {
        "colab": {
          "base_uri": "https://localhost:8080/"
        },
        "id": "y-erjklNGWOB",
        "outputId": "56c30e31-b83d-41d9-a3fe-c919f306cf37"
      },
      "outputs": [
        {
          "name": "stdout",
          "output_type": "stream",
          "text": [
            "tensor([[0.6599, 0.7955, 0.4204, 0.3419],\n",
            "        [0.7538, 0.1409, 0.6189, 0.9423],\n",
            "        [0.4123, 0.1702, 0.8829, 0.2140],\n",
            "        [0.5632, 0.7290, 0.3713, 0.2782]])\n",
            "tensor([0.6599, 0.7955, 0.4204, 0.3419, 0.7538, 0.1409, 0.6189, 0.9423, 0.4123,\n",
            "        0.1702, 0.8829, 0.2140, 0.5632, 0.7290, 0.3713, 0.2782])\n"
          ]
        }
      ],
      "source": [
        "# reshaping\n",
        "x = torch.rand(4,4)\n",
        "print(x)\n",
        "y = x.view(16) #num of elements is the same\n",
        "print(y)"
      ]
    },
    {
      "cell_type": "code",
      "execution_count": 28,
      "metadata": {
        "colab": {
          "base_uri": "https://localhost:8080/"
        },
        "id": "uzSTjE8ZHeLF",
        "outputId": "e004885d-f152-4c17-ba94-4f0f9cd96844"
      },
      "outputs": [
        {
          "name": "stdout",
          "output_type": "stream",
          "text": [
            "tensor([1., 1., 1., 1., 1.])\n",
            "<class 'numpy.ndarray'>\n",
            "[1. 1. 1. 1. 1.]\n"
          ]
        }
      ],
      "source": [
        "a = torch.ones(5)\n",
        "print(a)\n",
        "b = a.numpy()\n",
        "print(type(b))\n",
        "print(b)\n"
      ]
    },
    {
      "cell_type": "code",
      "execution_count": 30,
      "metadata": {
        "colab": {
          "base_uri": "https://localhost:8080/"
        },
        "id": "-0SsuwWDXErX",
        "outputId": "02deea25-4ec8-495b-9a97-0a391396831c"
      },
      "outputs": [
        {
          "name": "stdout",
          "output_type": "stream",
          "text": [
            "tensor([2., 2., 2., 2., 2.])\n",
            "[2. 2. 2. 2. 2.]\n"
          ]
        }
      ],
      "source": [
        "#if tensor is running on the cpu, a and b will share the same memory location, modifying it d\n",
        "a.add_(1)\n",
        "print(a)\n",
        "print(b)"
      ]
    },
    {
      "cell_type": "code",
      "execution_count": 32,
      "metadata": {
        "colab": {
          "base_uri": "https://localhost:8080/"
        },
        "id": "IwjSVdG1XfeY",
        "outputId": "fb08894e-9900-4d40-a108-ab58173a2564"
      },
      "outputs": [
        {
          "name": "stdout",
          "output_type": "stream",
          "text": [
            "[1. 1. 1. 1. 1.]\n",
            "tensor([1., 1., 1., 1., 1.], dtype=torch.float64)\n",
            "[2. 2. 2. 2. 2.]\n",
            "tensor([2., 2., 2., 2., 2.], dtype=torch.float64)\n"
          ]
        }
      ],
      "source": [
        "a = np.ones(5)\n",
        "b = torch.from_numpy(a)\n",
        "print(a)\n",
        "print(b)\n",
        "a +=1\n",
        "print(a)\n",
        "print(b)"
      ]
    },
    {
      "cell_type": "code",
      "execution_count": null,
      "metadata": {
        "id": "yhCCtVJGX53h"
      },
      "outputs": [],
      "source": [
        "if torch.cuda.is_available:\n",
        "  # puts on the gpu\n",
        "  device = torch.device(\"cuda\")\n",
        "  x = torch.ones(5, device=device)\n",
        "  y = torch.ones(5)\n",
        "  y = y.to(device)\n",
        "  z = x + y\n",
        "  # numpy can only handle cpu \n",
        "  z = z.to(\"cpu\")\n",
        "  print(z)"
      ]
    },
    {
      "cell_type": "code",
      "execution_count": null,
      "metadata": {
        "id": "iMgBhJu6Ywy3"
      },
      "outputs": [],
      "source": [
        "# tells pytorch that it will eventually need to track the gradients for this tensor in optimization steps\n",
        "x = torch.ones(5, requires_grad=True)\n"
      ]
    }
  ],
  "metadata": {
    "colab": {
      "name": "deep-learning.ipynb",
      "provenance": []
    },
    "gpuClass": "standard",
    "kernelspec": {
      "display_name": "Python 3.8.10 64-bit",
      "language": "python",
      "name": "python3"
    },
    "language_info": {
      "name": "python",
      "version": "3.8.10"
    },
    "orig_nbformat": 4,
    "vscode": {
      "interpreter": {
        "hash": "31f2aee4e71d21fbe5cf8b01ff0e069b9275f58929596ceb00d14d90e3e16cd6"
      }
    }
  },
  "nbformat": 4,
  "nbformat_minor": 0
}

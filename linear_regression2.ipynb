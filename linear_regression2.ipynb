{
  "nbformat": 4,
  "nbformat_minor": 0,
  "metadata": {
    "colab": {
      "name": "linear_regression2.ipynb",
      "provenance": [],
      "background_execution": "on",
      "authorship_tag": "ABX9TyN7TL4X4lW2cdUhNokxq2mp",
      "include_colab_link": true
    },
    "kernelspec": {
      "name": "python3",
      "display_name": "Python 3"
    },
    "language_info": {
      "name": "python"
    },
    "gpuClass": "standard"
  },
  "cells": [
    {
      "cell_type": "markdown",
      "metadata": {
        "id": "view-in-github",
        "colab_type": "text"
      },
      "source": [
        "<a href=\"https://colab.research.google.com/github/zesameri/pytorch-tutorial/blob/main/linear_regression2.ipynb\" target=\"_parent\"><img src=\"https://colab.research.google.com/assets/colab-badge.svg\" alt=\"Open In Colab\"/></a>"
      ]
    },
    {
      "cell_type": "code",
      "execution_count": 1,
      "metadata": {
        "id": "GrV7B5aH4a7B"
      },
      "outputs": [],
      "source": [
        "import torch\n",
        "import torch.nn as nn\n",
        "import numpy as np\n",
        "from sklearn import datasets\n",
        "import matplotlib.pyplot as plt"
      ]
    },
    {
      "cell_type": "code",
      "source": [
        "# prepare data\n",
        "X_np, Y_np = datasets.make_regression(n_samples=100, n_features=1, noise=20, random_state=1)\n",
        "X = torch.from_numpy(X_np.astype(np.float32))\n",
        "Y = torch.from_numpy(Y_np.astype(np.float32))\n",
        "# reshape y, each value in a row, one column\n",
        "Y = Y.view(Y.shape[0], 1)\n",
        "\n",
        "num_samples, num_features = X.shape"
      ],
      "metadata": {
        "id": "rob4Mzhi41xc"
      },
      "execution_count": 4,
      "outputs": []
    },
    {
      "cell_type": "code",
      "source": [
        "model = nn.Linear(num_features, num_features)\n",
        "\n",
        "# loss and optimizer\n",
        "learning_rate = 0.01\n",
        "criterion = nn.MSELoss()\n",
        "optimizer = torch.optim.SGD(model.parameters(), lr=learning_rate)"
      ],
      "metadata": {
        "id": "wCrJ16Pw5gcZ"
      },
      "execution_count": 6,
      "outputs": []
    },
    {
      "cell_type": "code",
      "source": [
        "# training loop\n",
        "num_epochs = 100\n",
        "for epoch in range(num_epochs):\n",
        "  # foward pass and loss\n",
        "  y_hat = model(X)\n",
        "  loss = criterion(y_hat, Y)\n",
        "  \n",
        "  # backward pass\n",
        "  loss.backward()\n",
        "\n",
        "  # update\n",
        "  optimizer.step()\n",
        "\n",
        "  # empty gradients (back sumup gradients each time)\n",
        "  optimizer.zero_grad()\n",
        "\n",
        "  if (epoch + 1) % 10 == 0:\n",
        "    print(f'epoch: {epoch + 1}, loss = {loss.item():.3f}')"
      ],
      "metadata": {
        "colab": {
          "base_uri": "https://localhost:8080/"
        },
        "id": "Fes9u-jF6Rq9",
        "outputId": "606a7449-42d5-45ea-c660-2f8602face6d"
      },
      "execution_count": 8,
      "outputs": [
        {
          "output_type": "stream",
          "name": "stdout",
          "text": [
            "epoch: 10, loss = 498.838\n",
            "epoch: 20, loss = 453.941\n",
            "epoch: 30, loss = 421.199\n",
            "epoch: 40, loss = 397.310\n",
            "epoch: 50, loss = 379.874\n",
            "epoch: 60, loss = 367.143\n",
            "epoch: 70, loss = 357.845\n",
            "epoch: 80, loss = 351.051\n",
            "epoch: 90, loss = 346.086\n",
            "epoch: 100, loss = 342.456\n"
          ]
        }
      ]
    },
    {
      "cell_type": "code",
      "source": [
        "# plot\n",
        "\n",
        "# prevent it from being tracked in computation graph, will make a new tensor with gradient tracking as false\n",
        "predicted = model(X).detach()\n",
        "plt.plot(X_np, Y_np, 'ro') # red dots\n",
        "plt.plot(X_np, predicted, 'b') # blue\n",
        "plt.show()\n"
      ],
      "metadata": {
        "colab": {
          "base_uri": "https://localhost:8080/",
          "height": 265
        },
        "id": "OoyfqSOh7O7S",
        "outputId": "852e105a-2e09-4f9c-dbf2-0b44612cdac0"
      },
      "execution_count": 9,
      "outputs": [
        {
          "output_type": "display_data",
          "data": {
            "text/plain": [
              "<Figure size 432x288 with 1 Axes>"
            ],
            "image/png": "[encoded data removed]"
          },
          "metadata": {
            "needs_background": "light"
          }
        }
      ]
    },
    {
      "cell_type": "code",
      "source": [
        ""
      ],
      "metadata": {
        "id": "aY6ElCaa7-s1"
      },
      "execution_count": null,
      "outputs": []
    }
  ]
}
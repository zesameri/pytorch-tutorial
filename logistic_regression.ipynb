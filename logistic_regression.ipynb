{
  "nbformat": 4,
  "nbformat_minor": 0,
  "metadata": {
    "colab": {
      "name": "logistic_regression.ipynb",
      "provenance": [],
      "background_execution": "on",
      "authorship_tag": "ABX9TyN9sqPef92JBlhWjORZ/SL9",
      "include_colab_link": true
    },
    "kernelspec": {
      "name": "python3",
      "display_name": "Python 3"
    },
    "language_info": {
      "name": "python"
    },
    "gpuClass": "standard"
  },
  "cells": [
    {
      "cell_type": "markdown",
      "metadata": {
        "id": "view-in-github",
        "colab_type": "text"
      },
      "source": [
        "<a href=\"https://colab.research.google.com/github/zesameri/pytorch-tutorial/blob/main/logistic_regression.ipynb\" target=\"_parent\"><img src=\"https://colab.research.google.com/assets/colab-badge.svg\" alt=\"Open In Colab\"/></a>"
      ]
    },
    {
      "cell_type": "code",
      "execution_count": 2,
      "metadata": {
        "id": "vd8cglag8rnG"
      },
      "outputs": [],
      "source": [
        "import torch\n",
        "import torch.nn as nn\n",
        "import numpy as np\n",
        "from sklearn import datasets\n",
        "from sklearn.preprocessing import StandardScaler\n",
        "from sklearn.model_selection import train_test_split"
      ]
    },
    {
      "cell_type": "code",
      "source": [
        "# prepare data\n",
        "\n",
        "bc = datasets.load_breast_cancer()\n",
        "x, y = bc.data, bc.target\n",
        "_, num_features = x.shape\n",
        "X_train, X_test, Y_train, Y_test = train_test_split(x, y, test_size=0.2, random_state=1234)\n",
        "\n",
        "# scale\n",
        "# this fits the features so the mean is 0 and unit variance\n",
        "sc = StandardScaler()\n",
        "X_train = sc.fit_transform(X_train)\n",
        "X_test = sc.fit_transform(X_test)\n",
        "\n",
        "X_train = torch.from_numpy(X_train.astype(np.float32))\n",
        "X_test = torch.from_numpy(X_test.astype(np.float32))\n",
        "Y_train = torch.from_numpy(Y_train.astype(np.float32))\n",
        "Y_test = torch.from_numpy(Y_test.astype(np.float32))\n",
        "\n",
        "Y_train = Y_train.view(Y_train.shape[0], 1) # now it is a column vector\n",
        "Y_test = Y_test.view(Y_test.shape[0], 1) "
      ],
      "metadata": {
        "id": "pP1tvwrB-C15"
      },
      "execution_count": 3,
      "outputs": []
    },
    {
      "cell_type": "code",
      "source": [
        "# f = wq + b, sigmoid at the end\n",
        "\n",
        "class LogisticRegression(nn.Module):\n",
        "  def __init__(self, num_input_features):\n",
        "    super(LogisticRegression, self).__init__()\n",
        "    self.linear = nn.Linear(num_input_features, 1)\n",
        "\n",
        "  def forward(self, x):\n",
        "    y_hat = torch.sigmoid(self.linear(x))\n",
        "    return y_hat\n",
        "\n",
        "model = LogisticRegression(num_features)"
      ],
      "metadata": {
        "id": "cz8CQWWhAWRB"
      },
      "execution_count": 4,
      "outputs": []
    },
    {
      "cell_type": "code",
      "source": [
        "# loss and optimizer\n",
        "learning_rate= 0.01\n",
        "criterion = nn.BCELoss() #Binary Cross Entropy Loss\n",
        "optimizer = torch.optim.SGD(model.parameters(), lr=learning_rate)"
      ],
      "metadata": {
        "id": "lDGlrDSaA-lE"
      },
      "execution_count": 7,
      "outputs": []
    },
    {
      "cell_type": "code",
      "source": [
        "# training\n",
        "num_epochs = 1000\n",
        "for epoch in range(num_epochs):\n",
        "  # forward pass & loss\n",
        "  y_hat = model(X_train)\n",
        "  loss = criterion(y_hat, Y_train)\n",
        "\n",
        "  # backward pass\n",
        "  loss.backward()\n",
        "\n",
        "  # updates\n",
        "  optimizer.step()\n",
        "  optimizer.zero_grad()\n",
        "\n",
        "  if (epoch + 1) % 100 == 0:\n",
        "    print(f'epoch: {epoch + 1}, loss = {loss.item():.4f}')"
      ],
      "metadata": {
        "colab": {
          "base_uri": "https://localhost:8080/"
        },
        "id": "z5tYShReBQGc",
        "outputId": "0107a6f1-f8c6-4e41-db2b-be2982ca58e3"
      },
      "execution_count": 13,
      "outputs": [
        {
          "output_type": "stream",
          "name": "stdout",
          "text": [
            "epoch: 100, loss = 0.0830\n",
            "epoch: 200, loss = 0.0805\n",
            "epoch: 300, loss = 0.0783\n",
            "epoch: 400, loss = 0.0764\n",
            "epoch: 500, loss = 0.0746\n",
            "epoch: 600, loss = 0.0730\n",
            "epoch: 700, loss = 0.0715\n",
            "epoch: 800, loss = 0.0701\n",
            "epoch: 900, loss = 0.0689\n",
            "epoch: 1000, loss = 0.0677\n"
          ]
        }
      ]
    },
    {
      "cell_type": "code",
      "source": [
        "# evaluation\n",
        "with torch.no_grad():\n",
        "  y_hat = model(X_test)\n",
        "  y_hat_classes = y_hat.round()\n",
        "  accuracy = y_hat_classes.eq(Y_test).sum() / float(Y_test.shape[0])\n",
        "  print(f'accuracy = {accuracy:.4f}')"
      ],
      "metadata": {
        "colab": {
          "base_uri": "https://localhost:8080/"
        },
        "id": "Kirg4YMnCDWs",
        "outputId": "bdeca229-8dae-4cef-e472-bd531fa18ae6"
      },
      "execution_count": 14,
      "outputs": [
        {
          "output_type": "stream",
          "name": "stdout",
          "text": [
            "accuracy = 0.9561\n"
          ]
        }
      ]
    },
    {
      "cell_type": "code",
      "source": [
        ""
      ],
      "metadata": {
        "id": "HkoGYsyLCr5Q"
      },
      "execution_count": null,
      "outputs": []
    }
  ]
}
{
  "nbformat": 4,
  "nbformat_minor": 0,
  "metadata": {
    "colab": {
      "name": "gradient_descent.ipynb",
      "provenance": [],
      "authorship_tag": "ABX9TyPQw3lskQ93AcdqdWSs+DHU"
    },
    "kernelspec": {
      "name": "python3",
      "display_name": "Python 3"
    },
    "language_info": {
      "name": "python"
    }
  },
  "cells": [
    {
      "cell_type": "code",
      "execution_count": null,
      "metadata": {
        "id": "eakaMR4TUg7n"
      },
      "outputs": [],
      "source": [
        ""
      ]
    }
  ]
}